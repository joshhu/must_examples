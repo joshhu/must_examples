{
 "cells": [
  {
   "cell_type": "code",
   "execution_count": 1,
   "metadata": {},
   "outputs": [],
   "source": [
    "import torch\n",
    "import numpy as np\n",
    "import torch.nn as nn\n",
    "import torch.nn.functional as F\n",
    "import torch.optim as optim\n",
    "from torch.autograd import Variable\n"
   ]
  },
  {
   "cell_type": "code",
   "execution_count": 2,
   "metadata": {},
   "outputs": [
    {
     "name": "stdout",
     "output_type": "stream",
     "text": [
      "['i', 'like', 'dog', 'i', 'love', 'coffee', 'i', 'hate', 'milk']\n",
      "去重後的word_list: ['like', 'milk', 'i', 'love', 'hate', 'coffee', 'dog']\n"
     ]
    }
   ],
   "source": [
    "\"\"\"\n",
    "1.Basic Embedding Model\n",
    "    1-1. NNLM(Neural Network Language Model)\n",
    "\"\"\"\n",
    "\n",
    "dtype = torch.FloatTensor\n",
    "sentences = [\"i like dog\", \"i love coffee\", \"i hate milk\"]\n",
    "\n",
    "word_list = \" \".join(sentences).split()  # 製作詞彙表\n",
    "print(word_list)\n",
    "word_list = list(set(word_list))  # 去除詞彙表中的重複元素\n",
    "print(\"去重後的word_list:\", word_list)\n",
    "word_dict = {w: i for i, w in enumerate(word_list)}  # 將每個單詞對應於相應的索引\n",
    "number_dict = {i: w for i, w in enumerate(word_list)}  # 將每個索引對應相應的單詞\n",
    "n_class = len(word_dict)  # 單詞總數\n",
    "\n",
    "# NNLM parameters\n",
    "n_step = 2   # 根據前兩個單詞預測第3個單詞\n",
    "n_hidden = 2  # 隱藏層神經元個數\n",
    "m = 2  # 詞向量的維度"
   ]
  },
  {
   "cell_type": "code",
   "execution_count": 3,
   "metadata": {},
   "outputs": [],
   "source": [
    "# 將原始資料用batch餵給模型\n",
    "\n",
    "def make_batch(sentences):\n",
    "    input_batch = []\n",
    "    target_batch = []\n",
    "    for sentence in sentences:\n",
    "        word = sentence.split()\n",
    "        input = [word_dict[w] for w in word[:-1]]\n",
    "        target = word_dict[word[-1]]\n",
    "        input_batch.append(input)\n",
    "        target_batch.append(target)\n",
    "    return input_batch, target_batch"
   ]
  },
  {
   "cell_type": "code",
   "execution_count": 4,
   "metadata": {},
   "outputs": [],
   "source": [
    "# Model\n",
    "\n",
    "class NNLM(nn.Module):\n",
    "    def __init__(self):\n",
    "        super(NNLM, self).__init__()\n",
    "        self.C = nn.Embedding(n_class, embedding_dim=m)\n",
    "        self.H = nn.Parameter(torch.randn(n_step * m, n_hidden).type(dtype))\n",
    "        self.W = nn.Parameter(torch.randn(n_step * m, n_class).type(dtype))\n",
    "        self.d = nn.Parameter(torch.randn(n_hidden).type(dtype))\n",
    "        self.U = nn.Parameter(torch.randn(n_hidden, n_class).type(dtype))\n",
    "        self.b = nn.Parameter(torch.randn(n_class).type(dtype))\n",
    "\n",
    "    def forward(self, x):\n",
    "        x = self.C(x)\n",
    "        x = x.view(-1, n_step * m)\n",
    "        # x: [batch_size, n_step*n_class]\n",
    "        tanh = torch.tanh(self.d + torch.mm(x, self.H))\n",
    "        # tanh: [batch_size, n_hidden]\n",
    "        output = self.b + torch.mm(x, self.W) + torch.mm(tanh, self.U)\n",
    "        # output: [batch_size, n_class]\n",
    "        return output\n",
    "\n",
    "\n",
    "model = NNLM()"
   ]
  },
  {
   "cell_type": "code",
   "execution_count": 5,
   "metadata": {},
   "outputs": [],
   "source": [
    "criterion = nn.CrossEntropyLoss()\n",
    "optimizer = optim.Adam(model.parameters(), lr=0.001)\n",
    "\n",
    "# 製作輸入\n",
    "input_batch, target_batch = make_batch(sentences)\n",
    "input_batch = Variable(torch.LongTensor(input_batch))\n",
    "target_batch = Variable(torch.LongTensor(target_batch))"
   ]
  },
  {
   "cell_type": "code",
   "execution_count": 6,
   "metadata": {},
   "outputs": [
    {
     "name": "stdout",
     "output_type": "stream",
     "text": [
      "Epoch:1000 Loss:0.149\n",
      "Epoch:2000 Loss:0.018\n",
      "Epoch:3000 Loss:0.006\n",
      "Epoch:4000 Loss:0.003\n",
      "Epoch:5000 Loss:0.001\n"
     ]
    }
   ],
   "source": [
    "# 開始訓練\n",
    "for epoch in range(5000):\n",
    "    optimizer.zero_grad()\n",
    "    output = model(input_batch)\n",
    "# output : [batch_size, n_class], target_batch : [batch_size] (LongTensor, not one-hot)\n",
    "    loss = criterion(output, target_batch)\n",
    "    if (epoch + 1) % 1000 == 0:\n",
    "        print(\"Epoch:{}\".format(epoch + 1), \"Loss:{:.3f}\".format(loss))\n",
    "    loss.backward()\n",
    "    optimizer.step()"
   ]
  },
  {
   "cell_type": "code",
   "execution_count": 7,
   "metadata": {},
   "outputs": [
    {
     "name": "stdout",
     "output_type": "stream",
     "text": [
      "predict: \n",
      " tensor([[6],\n",
      "        [5],\n",
      "        [1]])\n",
      "[['i', 'like'], ['i', 'love'], ['i', 'hate']] ----> ['dog', 'coffee', 'milk']\n"
     ]
    }
   ],
   "source": [
    "# 預測\n",
    "predict = model(input_batch).data.max(\n",
    "    1, keepdim=True)[1]  # [batch_size, n_class]\n",
    "print(\"predict: \\n\", predict)\n",
    "# 測試\n",
    "print([sentence.split()[:2] for sentence in sentences], \"---->\",\n",
    "      [number_dict[n.item()] for n in predict.squeeze()])\n"
   ]
  },
  {
   "cell_type": "code",
   "execution_count": null,
   "metadata": {},
   "outputs": [],
   "source": []
  }
 ],
 "metadata": {
  "kernelspec": {
   "display_name": "Python [conda env:.conda-pytorch13] *",
   "language": "python",
   "name": "conda-env-.conda-pytorch13-py"
  },
  "language_info": {
   "codemirror_mode": {
    "name": "ipython",
    "version": 3
   },
   "file_extension": ".py",
   "mimetype": "text/x-python",
   "name": "python",
   "nbconvert_exporter": "python",
   "pygments_lexer": "ipython3",
   "version": "3.7.5"
  }
 },
 "nbformat": 4,
 "nbformat_minor": 4
}
