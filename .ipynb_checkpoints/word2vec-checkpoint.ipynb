{
 "cells": [
  {
   "cell_type": "code",
   "execution_count": 9,
   "metadata": {},
   "outputs": [
    {
     "name": "stdout",
     "output_type": "stream",
     "text": [
      "done\n"
     ]
    }
   ],
   "source": [
    "import sys\n",
    "from gensim.models import word2vec\n",
    "\n",
    "sentences = word2vec.LineSentence(\"my_seg_small.txt\")\n",
    "model = word2vec.Word2Vec(sentences, size=5, min_count=1, negative=10)\n",
    "\n",
    "model.save('word2vec.model')\n",
    "model.wv.save_word2vec_format('word2vec.model.2', binary = False)\n",
    "print('done')\n",
    "\n"
   ]
  },
  {
   "cell_type": "code",
   "execution_count": 10,
   "metadata": {},
   "outputs": [
    {
     "name": "stdout",
     "output_type": "stream",
     "text": [
      "下午茶:0.47982656955718994\n",
      "帝都:0.2114725112915039\n",
      "吃下午茶:-0.022466659545898438\n",
      "吃:-0.09232759475708008\n",
      "飯:-0.39511430263519287\n",
      "台北:-0.40876105427742004\n",
      "玩:-0.7122859954833984\n",
      "上海:-0.7138850092887878\n",
      "烤鴨:-0.851561427116394\n"
     ]
    }
   ],
   "source": [
    "import sys\n",
    "from gensim.models import word2vec\n",
    "from gensim import models\n",
    "\n",
    "input_str = \"北京\"\n",
    "\n",
    "\n",
    "model = models.Word2Vec.load('word2vec.model')\n",
    "res = model.wv.most_similar(input_str)\n",
    "for item in res: \n",
    "      print(item[0] + ':' + str(item[1]))"
   ]
  },
  {
   "cell_type": "code",
   "execution_count": 11,
   "metadata": {},
   "outputs": [
    {
     "name": "stdout",
     "output_type": "stream",
     "text": [
      "-0.713885\n"
     ]
    }
   ],
   "source": [
    "input_str2 = \"上海\"\n",
    "model = models.Word2Vec.load('word2vec.model')\n",
    "res = model.wv.similarity(input_str, input_str2)\n",
    "print(res)"
   ]
  },
  {
   "cell_type": "code",
   "execution_count": null,
   "metadata": {},
   "outputs": [],
   "source": []
  },
  {
   "cell_type": "code",
   "execution_count": null,
   "metadata": {},
   "outputs": [],
   "source": []
  }
 ],
 "metadata": {
  "kernelspec": {
   "display_name": "Python [conda env:.conda-pytorch13] *",
   "language": "python",
   "name": "conda-env-.conda-pytorch13-py"
  },
  "language_info": {
   "codemirror_mode": {
    "name": "ipython",
    "version": 3
   },
   "file_extension": ".py",
   "mimetype": "text/x-python",
   "name": "python",
   "nbconvert_exporter": "python",
   "pygments_lexer": "ipython3",
   "version": "3.7.5"
  }
 },
 "nbformat": 4,
 "nbformat_minor": 4
}
